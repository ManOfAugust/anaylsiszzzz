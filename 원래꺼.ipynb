{
 "cells": [
  {
   "cell_type": "code",
   "execution_count": 44,
   "metadata": {},
   "outputs": [],
   "source": [
    "import pandas as pd\n",
    "import seaborn as sns\n",
    "from prophet import Prophet\n",
    "import matplotlib.pyplot as plt"
   ]
  },
  {
   "cell_type": "code",
   "execution_count": 45,
   "metadata": {},
   "outputs": [],
   "source": [
    "raw_data = pd.read_excel('joonggonara_iphone.xlsx', index_col=0)"
   ]
  },
  {
   "cell_type": "code",
   "execution_count": 46,
   "metadata": {},
   "outputs": [
    {
     "data": {
      "text/html": [
       "<div>\n",
       "<style scoped>\n",
       "    .dataframe tbody tr th:only-of-type {\n",
       "        vertical-align: middle;\n",
       "    }\n",
       "\n",
       "    .dataframe tbody tr th {\n",
       "        vertical-align: top;\n",
       "    }\n",
       "\n",
       "    .dataframe thead th {\n",
       "        text-align: right;\n",
       "    }\n",
       "</style>\n",
       "<table border=\"1\" class=\"dataframe\">\n",
       "  <thead>\n",
       "    <tr style=\"text-align: right;\">\n",
       "      <th></th>\n",
       "      <th>판매 상태</th>\n",
       "      <th>제목</th>\n",
       "      <th>url</th>\n",
       "      <th>가격</th>\n",
       "    </tr>\n",
       "  </thead>\n",
       "  <tbody>\n",
       "    <tr>\n",
       "      <th>2022-11-01 00:00:00</th>\n",
       "      <td>판매</td>\n",
       "      <td>86762 아이폰11PRO MAX 미드나잇 그린 64GB 배터리91%</td>\n",
       "      <td>https://cafe.naver.com/ca-fe/cafes/10050146/ar...</td>\n",
       "      <td>470000</td>\n",
       "    </tr>\n",
       "    <tr>\n",
       "      <th>2022-11-01 00:03:00</th>\n",
       "      <td>판매</td>\n",
       "      <td>15만원 아이폰8 가성비좋은 꿀 공기기 판매합니다.</td>\n",
       "      <td>https://cafe.naver.com/ca-fe/cafes/10050146/ar...</td>\n",
       "      <td>150000</td>\n",
       "    </tr>\n",
       "    <tr>\n",
       "      <th>2022-11-01 00:04:00</th>\n",
       "      <td>판매</td>\n",
       "      <td>부산 김해 아이폰13프로 그라파이트 128기가 배터리93 105만 13PRO</td>\n",
       "      <td>https://cafe.naver.com/ca-fe/cafes/10050146/ar...</td>\n",
       "      <td>1050000</td>\n",
       "    </tr>\n",
       "    <tr>\n",
       "      <th>2022-11-01 00:05:00</th>\n",
       "      <td>판매</td>\n",
       "      <td>광주 아이폰6S,64G,골드,광주광역시</td>\n",
       "      <td>https://cafe.naver.com/ca-fe/cafes/10050146/ar...</td>\n",
       "      <td>160000</td>\n",
       "    </tr>\n",
       "    <tr>\n",
       "      <th>2022-11-01 00:06:00</th>\n",
       "      <td>판매</td>\n",
       "      <td>[판매] ﻿아이폰12프로 그래파이트 128GB A급 공기계 [76만]</td>\n",
       "      <td>https://cafe.naver.com/ca-fe/cafes/10050146/ar...</td>\n",
       "      <td>760000</td>\n",
       "    </tr>\n",
       "    <tr>\n",
       "      <th>...</th>\n",
       "      <td>...</td>\n",
       "      <td>...</td>\n",
       "      <td>...</td>\n",
       "      <td>...</td>\n",
       "    </tr>\n",
       "    <tr>\n",
       "      <th>2022-11-10 14:58:00</th>\n",
       "      <td>판매</td>\n",
       "      <td>아이폰13 스타라이트 256기가 특S급 / 직거래</td>\n",
       "      <td>https://cafe.naver.com/ca-fe/cafes/10050146/ar...</td>\n",
       "      <td>900000</td>\n",
       "    </tr>\n",
       "    <tr>\n",
       "      <th>2022-11-10 15:00:00</th>\n",
       "      <td>판매</td>\n",
       "      <td>아이폰 11 128기가 파손폰 판매합니다</td>\n",
       "      <td>https://cafe.naver.com/ca-fe/cafes/10050146/ar...</td>\n",
       "      <td>250000</td>\n",
       "    </tr>\n",
       "    <tr>\n",
       "      <th>2022-11-10 15:01:00</th>\n",
       "      <td>판매</td>\n",
       "      <td>아이폰12미니 128G 화이트 액정무잔상 가성비꿀폰 30만원팝니다</td>\n",
       "      <td>https://cafe.naver.com/ca-fe/cafes/10050146/ar...</td>\n",
       "      <td>300000</td>\n",
       "    </tr>\n",
       "    <tr>\n",
       "      <th>2022-11-10 15:02:00</th>\n",
       "      <td>판매</td>\n",
       "      <td>아이폰 11프로</td>\n",
       "      <td>https://cafe.naver.com/ca-fe/cafes/10050146/ar...</td>\n",
       "      <td>400000</td>\n",
       "    </tr>\n",
       "    <tr>\n",
       "      <th>2022-11-10 15:04:00</th>\n",
       "      <td>판매</td>\n",
       "      <td>아이폰 13 프로 128G 시에라블루 민트급</td>\n",
       "      <td>https://cafe.naver.com/ca-fe/cafes/10050146/ar...</td>\n",
       "      <td>850000</td>\n",
       "    </tr>\n",
       "  </tbody>\n",
       "</table>\n",
       "<p>11256 rows × 4 columns</p>\n",
       "</div>"
      ],
      "text/plain": [
       "                    판매 상태                                          제목  \\\n",
       "2022-11-01 00:00:00    판매      86762 아이폰11PRO MAX 미드나잇 그린 64GB 배터리91%   \n",
       "2022-11-01 00:03:00    판매                15만원 아이폰8 가성비좋은 꿀 공기기 판매합니다.   \n",
       "2022-11-01 00:04:00    판매  부산 김해 아이폰13프로 그라파이트 128기가 배터리93 105만 13PRO   \n",
       "2022-11-01 00:05:00    판매                       광주 아이폰6S,64G,골드,광주광역시   \n",
       "2022-11-01 00:06:00    판매      [판매] ﻿아이폰12프로 그래파이트 128GB A급 공기계 [76만]   \n",
       "...                   ...                                         ...   \n",
       "2022-11-10 14:58:00    판매                 아이폰13 스타라이트 256기가 특S급 / 직거래   \n",
       "2022-11-10 15:00:00    판매                      아이폰 11 128기가 파손폰 판매합니다   \n",
       "2022-11-10 15:01:00    판매        아이폰12미니 128G 화이트 액정무잔상 가성비꿀폰 30만원팝니다   \n",
       "2022-11-10 15:02:00    판매                                    아이폰 11프로   \n",
       "2022-11-10 15:04:00    판매                    아이폰 13 프로 128G 시에라블루 민트급   \n",
       "\n",
       "                                                                   url  \\\n",
       "2022-11-01 00:00:00  https://cafe.naver.com/ca-fe/cafes/10050146/ar...   \n",
       "2022-11-01 00:03:00  https://cafe.naver.com/ca-fe/cafes/10050146/ar...   \n",
       "2022-11-01 00:04:00  https://cafe.naver.com/ca-fe/cafes/10050146/ar...   \n",
       "2022-11-01 00:05:00  https://cafe.naver.com/ca-fe/cafes/10050146/ar...   \n",
       "2022-11-01 00:06:00  https://cafe.naver.com/ca-fe/cafes/10050146/ar...   \n",
       "...                                                                ...   \n",
       "2022-11-10 14:58:00  https://cafe.naver.com/ca-fe/cafes/10050146/ar...   \n",
       "2022-11-10 15:00:00  https://cafe.naver.com/ca-fe/cafes/10050146/ar...   \n",
       "2022-11-10 15:01:00  https://cafe.naver.com/ca-fe/cafes/10050146/ar...   \n",
       "2022-11-10 15:02:00  https://cafe.naver.com/ca-fe/cafes/10050146/ar...   \n",
       "2022-11-10 15:04:00  https://cafe.naver.com/ca-fe/cafes/10050146/ar...   \n",
       "\n",
       "                          가격  \n",
       "2022-11-01 00:00:00   470000  \n",
       "2022-11-01 00:03:00   150000  \n",
       "2022-11-01 00:04:00  1050000  \n",
       "2022-11-01 00:05:00   160000  \n",
       "2022-11-01 00:06:00   760000  \n",
       "...                      ...  \n",
       "2022-11-10 14:58:00   900000  \n",
       "2022-11-10 15:00:00   250000  \n",
       "2022-11-10 15:01:00   300000  \n",
       "2022-11-10 15:02:00   400000  \n",
       "2022-11-10 15:04:00   850000  \n",
       "\n",
       "[11256 rows x 4 columns]"
      ]
     },
     "execution_count": 46,
     "metadata": {},
     "output_type": "execute_result"
    }
   ],
   "source": [
    "raw_data"
   ]
  },
  {
   "cell_type": "code",
   "execution_count": 47,
   "metadata": {},
   "outputs": [
    {
     "data": {
      "text/plain": [
       "'\\n제품별 가격의 전체 평균, 최대/최솟값, 지역별 평균, 최대/최솟값 --> 시각화하기\\n'"
      ]
     },
     "execution_count": 47,
     "metadata": {},
     "output_type": "execute_result"
    }
   ],
   "source": [
    "'''\n",
    "제품별 가격의 전체 평균, 최대/최솟값, 지역별 평균, 최대/최솟값 --> 시각화하기\n",
    "'''"
   ]
  },
  {
   "cell_type": "code",
   "execution_count": 48,
   "metadata": {},
   "outputs": [],
   "source": [
    "raw_data = raw_data[raw_data['가격'] > 0]\n",
    "raw_data['가격'] = raw_data['가격'].astype('int64')"
   ]
  },
  {
   "cell_type": "markdown",
   "metadata": {},
   "source": [
    "1) NaN값을 제거했고 (0보다 큰 값만 가져오기 때문에 dropna와 실질적으로 동일하게 적용됨)\n",
    "\n",
    "2) 기존의 '가격' 테이블이 float형 자료를 갖고 있었기에 int64형으로 바꿨습니다."
   ]
  },
  {
   "cell_type": "code",
   "execution_count": 49,
   "metadata": {},
   "outputs": [
    {
     "data": {
      "text/html": [
       "<div>\n",
       "<style scoped>\n",
       "    .dataframe tbody tr th:only-of-type {\n",
       "        vertical-align: middle;\n",
       "    }\n",
       "\n",
       "    .dataframe tbody tr th {\n",
       "        vertical-align: top;\n",
       "    }\n",
       "\n",
       "    .dataframe thead th {\n",
       "        text-align: right;\n",
       "    }\n",
       "</style>\n",
       "<table border=\"1\" class=\"dataframe\">\n",
       "  <thead>\n",
       "    <tr style=\"text-align: right;\">\n",
       "      <th></th>\n",
       "      <th>판매 상태</th>\n",
       "      <th>제목</th>\n",
       "      <th>url</th>\n",
       "      <th>가격</th>\n",
       "    </tr>\n",
       "  </thead>\n",
       "  <tbody>\n",
       "    <tr>\n",
       "      <th>2022-11-01 00:00:00</th>\n",
       "      <td>판매</td>\n",
       "      <td>86762 아이폰11PRO MAX 미드나잇 그린 64GB 배터리91%</td>\n",
       "      <td>https://cafe.naver.com/ca-fe/cafes/10050146/ar...</td>\n",
       "      <td>470000</td>\n",
       "    </tr>\n",
       "    <tr>\n",
       "      <th>2022-11-01 00:03:00</th>\n",
       "      <td>판매</td>\n",
       "      <td>15만원 아이폰8 가성비좋은 꿀 공기기 판매합니다.</td>\n",
       "      <td>https://cafe.naver.com/ca-fe/cafes/10050146/ar...</td>\n",
       "      <td>150000</td>\n",
       "    </tr>\n",
       "    <tr>\n",
       "      <th>2022-11-01 00:04:00</th>\n",
       "      <td>판매</td>\n",
       "      <td>부산 김해 아이폰13프로 그라파이트 128기가 배터리93 105만 13PRO</td>\n",
       "      <td>https://cafe.naver.com/ca-fe/cafes/10050146/ar...</td>\n",
       "      <td>1050000</td>\n",
       "    </tr>\n",
       "    <tr>\n",
       "      <th>2022-11-01 00:05:00</th>\n",
       "      <td>판매</td>\n",
       "      <td>광주 아이폰6S,64G,골드,광주광역시</td>\n",
       "      <td>https://cafe.naver.com/ca-fe/cafes/10050146/ar...</td>\n",
       "      <td>160000</td>\n",
       "    </tr>\n",
       "    <tr>\n",
       "      <th>2022-11-01 00:06:00</th>\n",
       "      <td>판매</td>\n",
       "      <td>[판매] ﻿아이폰12프로 그래파이트 128GB A급 공기계 [76만]</td>\n",
       "      <td>https://cafe.naver.com/ca-fe/cafes/10050146/ar...</td>\n",
       "      <td>760000</td>\n",
       "    </tr>\n",
       "    <tr>\n",
       "      <th>...</th>\n",
       "      <td>...</td>\n",
       "      <td>...</td>\n",
       "      <td>...</td>\n",
       "      <td>...</td>\n",
       "    </tr>\n",
       "    <tr>\n",
       "      <th>2022-11-10 14:58:00</th>\n",
       "      <td>판매</td>\n",
       "      <td>아이폰13 스타라이트 256기가 특S급 / 직거래</td>\n",
       "      <td>https://cafe.naver.com/ca-fe/cafes/10050146/ar...</td>\n",
       "      <td>900000</td>\n",
       "    </tr>\n",
       "    <tr>\n",
       "      <th>2022-11-10 15:00:00</th>\n",
       "      <td>판매</td>\n",
       "      <td>아이폰 11 128기가 파손폰 판매합니다</td>\n",
       "      <td>https://cafe.naver.com/ca-fe/cafes/10050146/ar...</td>\n",
       "      <td>250000</td>\n",
       "    </tr>\n",
       "    <tr>\n",
       "      <th>2022-11-10 15:01:00</th>\n",
       "      <td>판매</td>\n",
       "      <td>아이폰12미니 128G 화이트 액정무잔상 가성비꿀폰 30만원팝니다</td>\n",
       "      <td>https://cafe.naver.com/ca-fe/cafes/10050146/ar...</td>\n",
       "      <td>300000</td>\n",
       "    </tr>\n",
       "    <tr>\n",
       "      <th>2022-11-10 15:02:00</th>\n",
       "      <td>판매</td>\n",
       "      <td>아이폰 11프로</td>\n",
       "      <td>https://cafe.naver.com/ca-fe/cafes/10050146/ar...</td>\n",
       "      <td>400000</td>\n",
       "    </tr>\n",
       "    <tr>\n",
       "      <th>2022-11-10 15:04:00</th>\n",
       "      <td>판매</td>\n",
       "      <td>아이폰 13 프로 128G 시에라블루 민트급</td>\n",
       "      <td>https://cafe.naver.com/ca-fe/cafes/10050146/ar...</td>\n",
       "      <td>850000</td>\n",
       "    </tr>\n",
       "  </tbody>\n",
       "</table>\n",
       "<p>11256 rows × 4 columns</p>\n",
       "</div>"
      ],
      "text/plain": [
       "                    판매 상태                                          제목  \\\n",
       "2022-11-01 00:00:00    판매      86762 아이폰11PRO MAX 미드나잇 그린 64GB 배터리91%   \n",
       "2022-11-01 00:03:00    판매                15만원 아이폰8 가성비좋은 꿀 공기기 판매합니다.   \n",
       "2022-11-01 00:04:00    판매  부산 김해 아이폰13프로 그라파이트 128기가 배터리93 105만 13PRO   \n",
       "2022-11-01 00:05:00    판매                       광주 아이폰6S,64G,골드,광주광역시   \n",
       "2022-11-01 00:06:00    판매      [판매] ﻿아이폰12프로 그래파이트 128GB A급 공기계 [76만]   \n",
       "...                   ...                                         ...   \n",
       "2022-11-10 14:58:00    판매                 아이폰13 스타라이트 256기가 특S급 / 직거래   \n",
       "2022-11-10 15:00:00    판매                      아이폰 11 128기가 파손폰 판매합니다   \n",
       "2022-11-10 15:01:00    판매        아이폰12미니 128G 화이트 액정무잔상 가성비꿀폰 30만원팝니다   \n",
       "2022-11-10 15:02:00    판매                                    아이폰 11프로   \n",
       "2022-11-10 15:04:00    판매                    아이폰 13 프로 128G 시에라블루 민트급   \n",
       "\n",
       "                                                                   url  \\\n",
       "2022-11-01 00:00:00  https://cafe.naver.com/ca-fe/cafes/10050146/ar...   \n",
       "2022-11-01 00:03:00  https://cafe.naver.com/ca-fe/cafes/10050146/ar...   \n",
       "2022-11-01 00:04:00  https://cafe.naver.com/ca-fe/cafes/10050146/ar...   \n",
       "2022-11-01 00:05:00  https://cafe.naver.com/ca-fe/cafes/10050146/ar...   \n",
       "2022-11-01 00:06:00  https://cafe.naver.com/ca-fe/cafes/10050146/ar...   \n",
       "...                                                                ...   \n",
       "2022-11-10 14:58:00  https://cafe.naver.com/ca-fe/cafes/10050146/ar...   \n",
       "2022-11-10 15:00:00  https://cafe.naver.com/ca-fe/cafes/10050146/ar...   \n",
       "2022-11-10 15:01:00  https://cafe.naver.com/ca-fe/cafes/10050146/ar...   \n",
       "2022-11-10 15:02:00  https://cafe.naver.com/ca-fe/cafes/10050146/ar...   \n",
       "2022-11-10 15:04:00  https://cafe.naver.com/ca-fe/cafes/10050146/ar...   \n",
       "\n",
       "                          가격  \n",
       "2022-11-01 00:00:00   470000  \n",
       "2022-11-01 00:03:00   150000  \n",
       "2022-11-01 00:04:00  1050000  \n",
       "2022-11-01 00:05:00   160000  \n",
       "2022-11-01 00:06:00   760000  \n",
       "...                      ...  \n",
       "2022-11-10 14:58:00   900000  \n",
       "2022-11-10 15:00:00   250000  \n",
       "2022-11-10 15:01:00   300000  \n",
       "2022-11-10 15:02:00   400000  \n",
       "2022-11-10 15:04:00   850000  \n",
       "\n",
       "[11256 rows x 4 columns]"
      ]
     },
     "execution_count": 49,
     "metadata": {},
     "output_type": "execute_result"
    }
   ],
   "source": [
    "raw_data"
   ]
  },
  {
   "cell_type": "code",
   "execution_count": 50,
   "metadata": {},
   "outputs": [],
   "source": [
    "raw_data.drop(index = raw_data[raw_data.가격 > 2000000].index, inplace=True)\n",
    "raw_data.drop(index = raw_data[raw_data.가격 < 50000].index, inplace=True)"
   ]
  },
  {
   "cell_type": "markdown",
   "metadata": {},
   "source": [
    "해당 자료에서도 광고성 글들이 비정상적인 가격을 기재하고 있어서 일단 전반적인 전처리는 동일하게 유지 해놓고 진행 했습니다."
   ]
  },
  {
   "cell_type": "code",
   "execution_count": 51,
   "metadata": {},
   "outputs": [
    {
     "data": {
      "text/html": [
       "<div>\n",
       "<style scoped>\n",
       "    .dataframe tbody tr th:only-of-type {\n",
       "        vertical-align: middle;\n",
       "    }\n",
       "\n",
       "    .dataframe tbody tr th {\n",
       "        vertical-align: top;\n",
       "    }\n",
       "\n",
       "    .dataframe thead th {\n",
       "        text-align: right;\n",
       "    }\n",
       "</style>\n",
       "<table border=\"1\" class=\"dataframe\">\n",
       "  <thead>\n",
       "    <tr style=\"text-align: right;\">\n",
       "      <th></th>\n",
       "      <th>판매 상태</th>\n",
       "      <th>제목</th>\n",
       "      <th>url</th>\n",
       "      <th>가격</th>\n",
       "    </tr>\n",
       "  </thead>\n",
       "  <tbody>\n",
       "    <tr>\n",
       "      <th>2022-11-01 00:00:00</th>\n",
       "      <td>판매</td>\n",
       "      <td>86762 아이폰11PRO MAX 미드나잇 그린 64GB 배터리91%</td>\n",
       "      <td>https://cafe.naver.com/ca-fe/cafes/10050146/ar...</td>\n",
       "      <td>470000</td>\n",
       "    </tr>\n",
       "    <tr>\n",
       "      <th>2022-11-01 00:03:00</th>\n",
       "      <td>판매</td>\n",
       "      <td>15만원 아이폰8 가성비좋은 꿀 공기기 판매합니다.</td>\n",
       "      <td>https://cafe.naver.com/ca-fe/cafes/10050146/ar...</td>\n",
       "      <td>150000</td>\n",
       "    </tr>\n",
       "    <tr>\n",
       "      <th>2022-11-01 00:04:00</th>\n",
       "      <td>판매</td>\n",
       "      <td>부산 김해 아이폰13프로 그라파이트 128기가 배터리93 105만 13PRO</td>\n",
       "      <td>https://cafe.naver.com/ca-fe/cafes/10050146/ar...</td>\n",
       "      <td>1050000</td>\n",
       "    </tr>\n",
       "    <tr>\n",
       "      <th>2022-11-01 00:05:00</th>\n",
       "      <td>판매</td>\n",
       "      <td>광주 아이폰6S,64G,골드,광주광역시</td>\n",
       "      <td>https://cafe.naver.com/ca-fe/cafes/10050146/ar...</td>\n",
       "      <td>160000</td>\n",
       "    </tr>\n",
       "    <tr>\n",
       "      <th>2022-11-01 00:06:00</th>\n",
       "      <td>판매</td>\n",
       "      <td>[판매] ﻿아이폰12프로 그래파이트 128GB A급 공기계 [76만]</td>\n",
       "      <td>https://cafe.naver.com/ca-fe/cafes/10050146/ar...</td>\n",
       "      <td>760000</td>\n",
       "    </tr>\n",
       "    <tr>\n",
       "      <th>...</th>\n",
       "      <td>...</td>\n",
       "      <td>...</td>\n",
       "      <td>...</td>\n",
       "      <td>...</td>\n",
       "    </tr>\n",
       "    <tr>\n",
       "      <th>2022-11-10 14:58:00</th>\n",
       "      <td>판매</td>\n",
       "      <td>아이폰13 스타라이트 256기가 특S급 / 직거래</td>\n",
       "      <td>https://cafe.naver.com/ca-fe/cafes/10050146/ar...</td>\n",
       "      <td>900000</td>\n",
       "    </tr>\n",
       "    <tr>\n",
       "      <th>2022-11-10 15:00:00</th>\n",
       "      <td>판매</td>\n",
       "      <td>아이폰 11 128기가 파손폰 판매합니다</td>\n",
       "      <td>https://cafe.naver.com/ca-fe/cafes/10050146/ar...</td>\n",
       "      <td>250000</td>\n",
       "    </tr>\n",
       "    <tr>\n",
       "      <th>2022-11-10 15:01:00</th>\n",
       "      <td>판매</td>\n",
       "      <td>아이폰12미니 128G 화이트 액정무잔상 가성비꿀폰 30만원팝니다</td>\n",
       "      <td>https://cafe.naver.com/ca-fe/cafes/10050146/ar...</td>\n",
       "      <td>300000</td>\n",
       "    </tr>\n",
       "    <tr>\n",
       "      <th>2022-11-10 15:02:00</th>\n",
       "      <td>판매</td>\n",
       "      <td>아이폰 11프로</td>\n",
       "      <td>https://cafe.naver.com/ca-fe/cafes/10050146/ar...</td>\n",
       "      <td>400000</td>\n",
       "    </tr>\n",
       "    <tr>\n",
       "      <th>2022-11-10 15:04:00</th>\n",
       "      <td>판매</td>\n",
       "      <td>아이폰 13 프로 128G 시에라블루 민트급</td>\n",
       "      <td>https://cafe.naver.com/ca-fe/cafes/10050146/ar...</td>\n",
       "      <td>850000</td>\n",
       "    </tr>\n",
       "  </tbody>\n",
       "</table>\n",
       "<p>10573 rows × 4 columns</p>\n",
       "</div>"
      ],
      "text/plain": [
       "                    판매 상태                                          제목  \\\n",
       "2022-11-01 00:00:00    판매      86762 아이폰11PRO MAX 미드나잇 그린 64GB 배터리91%   \n",
       "2022-11-01 00:03:00    판매                15만원 아이폰8 가성비좋은 꿀 공기기 판매합니다.   \n",
       "2022-11-01 00:04:00    판매  부산 김해 아이폰13프로 그라파이트 128기가 배터리93 105만 13PRO   \n",
       "2022-11-01 00:05:00    판매                       광주 아이폰6S,64G,골드,광주광역시   \n",
       "2022-11-01 00:06:00    판매      [판매] ﻿아이폰12프로 그래파이트 128GB A급 공기계 [76만]   \n",
       "...                   ...                                         ...   \n",
       "2022-11-10 14:58:00    판매                 아이폰13 스타라이트 256기가 특S급 / 직거래   \n",
       "2022-11-10 15:00:00    판매                      아이폰 11 128기가 파손폰 판매합니다   \n",
       "2022-11-10 15:01:00    판매        아이폰12미니 128G 화이트 액정무잔상 가성비꿀폰 30만원팝니다   \n",
       "2022-11-10 15:02:00    판매                                    아이폰 11프로   \n",
       "2022-11-10 15:04:00    판매                    아이폰 13 프로 128G 시에라블루 민트급   \n",
       "\n",
       "                                                                   url  \\\n",
       "2022-11-01 00:00:00  https://cafe.naver.com/ca-fe/cafes/10050146/ar...   \n",
       "2022-11-01 00:03:00  https://cafe.naver.com/ca-fe/cafes/10050146/ar...   \n",
       "2022-11-01 00:04:00  https://cafe.naver.com/ca-fe/cafes/10050146/ar...   \n",
       "2022-11-01 00:05:00  https://cafe.naver.com/ca-fe/cafes/10050146/ar...   \n",
       "2022-11-01 00:06:00  https://cafe.naver.com/ca-fe/cafes/10050146/ar...   \n",
       "...                                                                ...   \n",
       "2022-11-10 14:58:00  https://cafe.naver.com/ca-fe/cafes/10050146/ar...   \n",
       "2022-11-10 15:00:00  https://cafe.naver.com/ca-fe/cafes/10050146/ar...   \n",
       "2022-11-10 15:01:00  https://cafe.naver.com/ca-fe/cafes/10050146/ar...   \n",
       "2022-11-10 15:02:00  https://cafe.naver.com/ca-fe/cafes/10050146/ar...   \n",
       "2022-11-10 15:04:00  https://cafe.naver.com/ca-fe/cafes/10050146/ar...   \n",
       "\n",
       "                          가격  \n",
       "2022-11-01 00:00:00   470000  \n",
       "2022-11-01 00:03:00   150000  \n",
       "2022-11-01 00:04:00  1050000  \n",
       "2022-11-01 00:05:00   160000  \n",
       "2022-11-01 00:06:00   760000  \n",
       "...                      ...  \n",
       "2022-11-10 14:58:00   900000  \n",
       "2022-11-10 15:00:00   250000  \n",
       "2022-11-10 15:01:00   300000  \n",
       "2022-11-10 15:02:00   400000  \n",
       "2022-11-10 15:04:00   850000  \n",
       "\n",
       "[10573 rows x 4 columns]"
      ]
     },
     "execution_count": 51,
     "metadata": {},
     "output_type": "execute_result"
    }
   ],
   "source": [
    "onsale_data = raw_data[raw_data['판매 상태'] == '판매']\n",
    "onsale_data"
   ]
  },
  {
   "cell_type": "markdown",
   "metadata": {},
   "source": [
    "판매 완료된 데이터의 수가 적어 먼저 판매중인 자료로 학습을 진행하고, \n",
    "\n",
    "학습의 정답 레이블을 판매 완료 가격으로 지정하여 예측 및 시장가격 조사를 할 계획입니다. "
   ]
  },
  {
   "cell_type": "code",
   "execution_count": 52,
   "metadata": {},
   "outputs": [
    {
     "data": {
      "text/plain": [
       "2022-11-01 00:00:00     470000\n",
       "2022-11-01 00:03:00     150000\n",
       "2022-11-01 00:04:00    1050000\n",
       "2022-11-01 00:05:00     160000\n",
       "2022-11-01 00:06:00     760000\n",
       "                        ...   \n",
       "2022-11-10 14:58:00     900000\n",
       "2022-11-10 15:00:00     250000\n",
       "2022-11-10 15:01:00     300000\n",
       "2022-11-10 15:02:00     400000\n",
       "2022-11-10 15:04:00     850000\n",
       "Name: 가격, Length: 10642, dtype: int64"
      ]
     },
     "execution_count": 52,
     "metadata": {},
     "output_type": "execute_result"
    }
   ],
   "source": [
    "raw_data.가격"
   ]
  },
  {
   "cell_type": "code",
   "execution_count": 53,
   "metadata": {},
   "outputs": [
    {
     "data": {
      "text/plain": [
       "2022-11-01 00:00:00       86762아이폰11PROMAX미드나잇그린64GB배터리91%\n",
       "2022-11-01 00:03:00                15만원아이폰8가성비좋은꿀공기기판매합니다.\n",
       "2022-11-01 00:04:00    부산김해아이폰13프로그라파이트128기가배터리93105만13PRO\n",
       "2022-11-01 00:05:00                   광주아이폰6S,64G,골드,광주광역시\n",
       "2022-11-01 00:06:00       [판매]﻿아이폰12프로그래파이트128GBA급공기계[76만]\n",
       "                                      ...                 \n",
       "2022-11-10 14:58:00                 아이폰13스타라이트256기가특S급/직거래\n",
       "2022-11-10 15:00:00                     아이폰11128기가파손폰판매합니다\n",
       "2022-11-10 15:01:00        아이폰12미니128G화이트액정무잔상가성비꿀폰30만원팝니다\n",
       "2022-11-10 15:02:00                                아이폰11프로\n",
       "2022-11-10 15:04:00                    아이폰13프로128G시에라블루민트급\n",
       "Name: 제목, Length: 10642, dtype: object"
      ]
     },
     "execution_count": 53,
     "metadata": {},
     "output_type": "execute_result"
    }
   ],
   "source": [
    "raw_data['제목'] = raw_data['제목'].replace(\" \",\"\",regex=True)\n",
    "raw_data['제목']"
   ]
  },
  {
   "cell_type": "code",
   "execution_count": 55,
   "metadata": {},
   "outputs": [
    {
     "name": "stdout",
     "output_type": "stream",
     "text": [
      "아이폰11\n"
     ]
    },
    {
     "name": "stderr",
     "output_type": "stream",
     "text": [
      "C:\\Users\\k5000\\AppData\\Local\\Temp\\ipykernel_54008\\351209791.py:9: SettingWithCopyWarning: \n",
      "A value is trying to be set on a copy of a slice from a DataFrame.\n",
      "Try using .loc[row_indexer,col_indexer] = value instead\n",
      "\n",
      "See the caveats in the documentation: https://pandas.pydata.org/pandas-docs/stable/user_guide/indexing.html#returning-a-view-versus-a-copy\n",
      "  finding['제목'] = search_name\n"
     ]
    },
    {
     "data": {
      "text/plain": [
       "<AxesSubplot:xlabel='제목', ylabel='가격'>"
      ]
     },
     "execution_count": 55,
     "metadata": {},
     "output_type": "execute_result"
    },
    {
     "data": {
      "text/plain": [
       "<Figure size 1080x360 with 0 Axes>"
      ]
     },
     "metadata": {},
     "output_type": "display_data"
    },
    {
     "data": {
      "image/png": "[encoded data removed]",
      "text/plain": [
       "<Figure size 1080x360 with 1 Axes>"
      ]
     },
     "metadata": {},
     "output_type": "display_data"
    }
   ],
   "source": [
    "import matplotlib.pyplot as plt\n",
    "\n",
    "sns.set(style=\"darkgrid\")\n",
    "\n",
    "search_name = input()\n",
    "\n",
    "plt.rcParams['font.family'] = 'Malgun Gothic'\n",
    "finding = onsale_data[onsale_data['제목'].str.contains(search_name, regex=False, case=False)]\n",
    "finding['제목'] = search_name\n",
    "plt.figure(figsize=(15,5))\n",
    "\n",
    "INFO = finding['가격'].describe()\n",
    "fig, axes = plt.subplots(1, 1, figsize=(15, 5), sharey=True)\n",
    "fig.suptitle('Market Price of ' + search_name)\n",
    "plot_index = ['Market Price', 'mean', 'std', 'min', 'Q1', 'Q2', 'Q3', 'max']\n",
    "\n",
    "sns.boxplot(x=finding['제목'],y=finding['가격'],palette=\"Set1\", hue=finding['제목'])\n",
    "sns.barplot(x=plot_index, y=INFO.values, alpha=0.8, palette='Set1', orient='v')"
   ]
  },
  {
   "cell_type": "code",
   "execution_count": 56,
   "metadata": {
    "scrolled": true
   },
   "outputs": [
    {
     "data": {
      "text/html": [
       "<div>\n",
       "<style scoped>\n",
       "    .dataframe tbody tr th:only-of-type {\n",
       "        vertical-align: middle;\n",
       "    }\n",
       "\n",
       "    .dataframe tbody tr th {\n",
       "        vertical-align: top;\n",
       "    }\n",
       "\n",
       "    .dataframe thead th {\n",
       "        text-align: right;\n",
       "    }\n",
       "</style>\n",
       "<table border=\"1\" class=\"dataframe\">\n",
       "  <thead>\n",
       "    <tr style=\"text-align: right;\">\n",
       "      <th></th>\n",
       "      <th>index</th>\n",
       "      <th>판매 상태</th>\n",
       "      <th>제목</th>\n",
       "      <th>url</th>\n",
       "      <th>가격</th>\n",
       "    </tr>\n",
       "  </thead>\n",
       "  <tbody>\n",
       "    <tr>\n",
       "      <th>0</th>\n",
       "      <td>2022-11-01 00:00:00</td>\n",
       "      <td>판매</td>\n",
       "      <td>아이폰11</td>\n",
       "      <td>https://cafe.naver.com/ca-fe/cafes/10050146/ar...</td>\n",
       "      <td>470000</td>\n",
       "    </tr>\n",
       "    <tr>\n",
       "      <th>1</th>\n",
       "      <td>2022-11-01 00:16:00</td>\n",
       "      <td>판매</td>\n",
       "      <td>아이폰11</td>\n",
       "      <td>https://cafe.naver.com/ca-fe/cafes/10050146/ar...</td>\n",
       "      <td>440000</td>\n",
       "    </tr>\n",
       "    <tr>\n",
       "      <th>2</th>\n",
       "      <td>2022-11-01 00:26:00</td>\n",
       "      <td>판매</td>\n",
       "      <td>아이폰11</td>\n",
       "      <td>https://cafe.naver.com/ca-fe/cafes/10050146/ar...</td>\n",
       "      <td>520000</td>\n",
       "    </tr>\n",
       "    <tr>\n",
       "      <th>3</th>\n",
       "      <td>2022-11-01 00:42:00</td>\n",
       "      <td>판매</td>\n",
       "      <td>아이폰11</td>\n",
       "      <td>https://cafe.naver.com/ca-fe/cafes/10050146/ar...</td>\n",
       "      <td>400000</td>\n",
       "    </tr>\n",
       "    <tr>\n",
       "      <th>4</th>\n",
       "      <td>2022-11-01 00:43:00</td>\n",
       "      <td>판매</td>\n",
       "      <td>아이폰11</td>\n",
       "      <td>https://cafe.naver.com/ca-fe/cafes/10050146/ar...</td>\n",
       "      <td>480000</td>\n",
       "    </tr>\n",
       "    <tr>\n",
       "      <th>...</th>\n",
       "      <td>...</td>\n",
       "      <td>...</td>\n",
       "      <td>...</td>\n",
       "      <td>...</td>\n",
       "      <td>...</td>\n",
       "    </tr>\n",
       "    <tr>\n",
       "      <th>1434</th>\n",
       "      <td>2022-11-10 13:25:00</td>\n",
       "      <td>판매</td>\n",
       "      <td>아이폰11</td>\n",
       "      <td>https://cafe.naver.com/ca-fe/cafes/10050146/ar...</td>\n",
       "      <td>420000</td>\n",
       "    </tr>\n",
       "    <tr>\n",
       "      <th>1435</th>\n",
       "      <td>2022-11-10 13:29:00</td>\n",
       "      <td>판매</td>\n",
       "      <td>아이폰11</td>\n",
       "      <td>https://cafe.naver.com/ca-fe/cafes/10050146/ar...</td>\n",
       "      <td>420000</td>\n",
       "    </tr>\n",
       "    <tr>\n",
       "      <th>1436</th>\n",
       "      <td>2022-11-10 13:34:00</td>\n",
       "      <td>판매</td>\n",
       "      <td>아이폰11</td>\n",
       "      <td>https://cafe.naver.com/ca-fe/cafes/10050146/ar...</td>\n",
       "      <td>480000</td>\n",
       "    </tr>\n",
       "    <tr>\n",
       "      <th>1437</th>\n",
       "      <td>2022-11-10 13:38:00</td>\n",
       "      <td>판매</td>\n",
       "      <td>아이폰11</td>\n",
       "      <td>https://cafe.naver.com/ca-fe/cafes/10050146/ar...</td>\n",
       "      <td>480000</td>\n",
       "    </tr>\n",
       "    <tr>\n",
       "      <th>1438</th>\n",
       "      <td>2022-11-10 14:21:00</td>\n",
       "      <td>판매</td>\n",
       "      <td>아이폰11</td>\n",
       "      <td>https://cafe.naver.com/ca-fe/cafes/10050146/ar...</td>\n",
       "      <td>420000</td>\n",
       "    </tr>\n",
       "  </tbody>\n",
       "</table>\n",
       "<p>1439 rows × 5 columns</p>\n",
       "</div>"
      ],
      "text/plain": [
       "                   index 판매 상태     제목  \\\n",
       "0    2022-11-01 00:00:00    판매  아이폰11   \n",
       "1    2022-11-01 00:16:00    판매  아이폰11   \n",
       "2    2022-11-01 00:26:00    판매  아이폰11   \n",
       "3    2022-11-01 00:42:00    판매  아이폰11   \n",
       "4    2022-11-01 00:43:00    판매  아이폰11   \n",
       "...                  ...   ...    ...   \n",
       "1434 2022-11-10 13:25:00    판매  아이폰11   \n",
       "1435 2022-11-10 13:29:00    판매  아이폰11   \n",
       "1436 2022-11-10 13:34:00    판매  아이폰11   \n",
       "1437 2022-11-10 13:38:00    판매  아이폰11   \n",
       "1438 2022-11-10 14:21:00    판매  아이폰11   \n",
       "\n",
       "                                                    url      가격  \n",
       "0     https://cafe.naver.com/ca-fe/cafes/10050146/ar...  470000  \n",
       "1     https://cafe.naver.com/ca-fe/cafes/10050146/ar...  440000  \n",
       "2     https://cafe.naver.com/ca-fe/cafes/10050146/ar...  520000  \n",
       "3     https://cafe.naver.com/ca-fe/cafes/10050146/ar...  400000  \n",
       "4     https://cafe.naver.com/ca-fe/cafes/10050146/ar...  480000  \n",
       "...                                                 ...     ...  \n",
       "1434  https://cafe.naver.com/ca-fe/cafes/10050146/ar...  420000  \n",
       "1435  https://cafe.naver.com/ca-fe/cafes/10050146/ar...  420000  \n",
       "1436  https://cafe.naver.com/ca-fe/cafes/10050146/ar...  480000  \n",
       "1437  https://cafe.naver.com/ca-fe/cafes/10050146/ar...  480000  \n",
       "1438  https://cafe.naver.com/ca-fe/cafes/10050146/ar...  420000  \n",
       "\n",
       "[1439 rows x 5 columns]"
      ]
     },
     "execution_count": 56,
     "metadata": {},
     "output_type": "execute_result"
    }
   ],
   "source": [
    "finding = finding.reset_index(drop=False)\n",
    "finding"
   ]
  },
  {
   "cell_type": "markdown",
   "metadata": {},
   "source": [
    "시계열 예측을 위하여 작성날짜에 대한 column을 구분할 필요가 있습니다. 현재 xlsx 파일은 index값이 작성날짜로 할당되어 있기에 새롭게 초기화를 하여 구분했습니다."
   ]
  },
  {
   "cell_type": "code",
   "execution_count": 57,
   "metadata": {},
   "outputs": [],
   "source": [
    "m = Prophet() \n",
    "\n",
    "finding['floor'] = 0 #최ㅎ\n",
    "finding['ds'] = finding['index']\n",
    "finding['y'] = finding['가격']\n",
    "finding.drop(labels=['index','가격'],axis=1,inplace=True)"
   ]
  },
  {
   "cell_type": "markdown",
   "metadata": {},
   "source": [
    "Prophet 라이브러리의 시계열 예측을 시작하기에 앞서, 예측에 필요한 컬럼인 ds와 y를 구분하는 단계입니다."
   ]
  },
  {
   "cell_type": "code",
   "execution_count": 58,
   "metadata": {},
   "outputs": [
    {
     "name": "stderr",
     "output_type": "stream",
     "text": [
      "INFO:prophet:Disabling yearly seasonality. Run prophet with yearly_seasonality=True to override this.\n",
      "INFO:prophet:Disabling weekly seasonality. Run prophet with weekly_seasonality=True to override this.\n",
      "C:\\Users\\k5000\\miniconda3\\lib\\site-packages\\prophet\\forecaster.py:896: FutureWarning: The frame.append method is deprecated and will be removed from pandas in a future version. Use pandas.concat instead.\n",
      "  components = components.append(new_comp)\n"
     ]
    },
    {
     "data": {
      "text/plain": [
       "<prophet.forecaster.Prophet at 0x291e2308e20>"
      ]
     },
     "execution_count": 58,
     "metadata": {},
     "output_type": "execute_result"
    }
   ],
   "source": [
    "m.fit(finding)"
   ]
  },
  {
   "cell_type": "code",
   "execution_count": 59,
   "metadata": {},
   "outputs": [
    {
     "name": "stderr",
     "output_type": "stream",
     "text": [
      "C:\\Users\\k5000\\miniconda3\\lib\\site-packages\\prophet\\forecaster.py:896: FutureWarning: The frame.append method is deprecated and will be removed from pandas in a future version. Use pandas.concat instead.\n",
      "  components = components.append(new_comp)\n",
      "C:\\Users\\k5000\\miniconda3\\lib\\site-packages\\prophet\\forecaster.py:896: FutureWarning: The frame.append method is deprecated and will be removed from pandas in a future version. Use pandas.concat instead.\n",
      "  components = components.append(new_comp)\n"
     ]
    }
   ],
   "source": [
    "future = m.make_future_dataframe(periods=60)\n",
    "forecast = m.predict(future)"
   ]
  },
  {
   "cell_type": "code",
   "execution_count": 60,
   "metadata": {},
   "outputs": [
    {
     "name": "stderr",
     "output_type": "stream",
     "text": [
      "C:\\Users\\k5000\\miniconda3\\lib\\site-packages\\prophet\\plot.py:88: UserWarning: Glyph 8722 (\\N{MINUS SIGN}) missing from current font.\n",
      "  fig.tight_layout()\n",
      "C:\\Users\\k5000\\miniconda3\\lib\\site-packages\\IPython\\core\\pylabtools.py:151: UserWarning: Glyph 8722 (\\N{MINUS SIGN}) missing from current font.\n",
      "  fig.canvas.print_figure(bytes_io, **kw)\n"
     ]
    },
    {
     "data": {
      "image/png": "[encoded data removed]",
      "text/plain": [
       "<Figure size 720x432 with 1 Axes>"
      ]
     },
     "execution_count": 60,
     "metadata": {},
     "output_type": "execute_result"
    },
    {
     "name": "stderr",
     "output_type": "stream",
     "text": [
      "C:\\Users\\k5000\\miniconda3\\lib\\site-packages\\IPython\\core\\events.py:89: UserWarning: Glyph 8722 (\\N{MINUS SIGN}) missing from current font.\n",
      "  func(*args, **kwargs)\n"
     ]
    },
    {
     "data": {
      "image/png": "[encoded data removed]",
      "text/plain": [
       "<Figure size 720x432 with 1 Axes>"
      ]
     },
     "metadata": {},
     "output_type": "display_data"
    }
   ],
   "source": [
    "m.plot(forecast)"
   ]
  },
  {
   "cell_type": "markdown",
   "metadata": {},
   "source": [
    "Prophet model을 fitting하고, 미래시간에 대한 dataframe을 만들어 predict를 완료한 단계입니다. 예측을 수행하기에 충분한 데이터를 보유하고 있지 않아 현재는 선형적인 그래프의 모습을 띄고 있으나, 데이터가 많을 경우 정상적으로 작동될 것으로 기대됩니다."
   ]
  },
  {
   "cell_type": "code",
   "execution_count": null,
   "metadata": {},
   "outputs": [],
   "source": []
  },
  {
   "cell_type": "code",
   "execution_count": null,
   "metadata": {},
   "outputs": [],
   "source": []
  },
  {
   "cell_type": "code",
   "execution_count": null,
   "metadata": {},
   "outputs": [],
   "source": []
  },
  {
   "cell_type": "code",
   "execution_count": null,
   "metadata": {},
   "outputs": [],
   "source": []
  },
  {
   "cell_type": "code",
   "execution_count": null,
   "metadata": {},
   "outputs": [],
   "source": []
  },
  {
   "cell_type": "code",
   "execution_count": null,
   "metadata": {},
   "outputs": [],
   "source": []
  },
  {
   "cell_type": "code",
   "execution_count": null,
   "metadata": {},
   "outputs": [],
   "source": []
  }
 ],
 "metadata": {
  "kernelspec": {
   "display_name": "Python 3 (ipykernel)",
   "language": "python",
   "name": "python3"
  },
  "language_info": {
   "codemirror_mode": {
    "name": "ipython",
    "version": 3
   },
   "file_extension": ".py",
   "mimetype": "text/x-python",
   "name": "python",
   "nbconvert_exporter": "python",
   "pygments_lexer": "ipython3",
   "version": "3.9.12"
  },
  "vscode": {
   "interpreter": {
    "hash": "e1315e6714f2518a6216a6eec3b047587d10875bf19b853b35d3e5c84c569e2a"
   }
  }
 },
 "nbformat": 4,
 "nbformat_minor": 4
}
